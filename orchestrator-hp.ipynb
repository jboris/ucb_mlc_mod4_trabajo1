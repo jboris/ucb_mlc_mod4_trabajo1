{
  "cells": [
    {
      "cell_type": "code",
      "source": [
        "import configparser\n",
        "import os\n",
        "\n",
        "from azure.ai.ml import MLClient\n",
        "from azure.ai.ml import command, Input\n",
        "from azure.ai.ml.constants import AssetTypes\n",
        "from azure.ai.ml.entities import AmlCompute,Environment\n",
        "from azure.ai.ml.sweep import Choice, Uniform, MedianStoppingPolicy\n",
        "from azure.identity import DefaultAzureCredential"
      ],
      "outputs": [],
      "execution_count": 2,
      "metadata": {
        "gather": {
          "logged": 1698629402439
        }
      }
    },
    {
      "cell_type": "code",
      "source": [
        "config = configparser.ConfigParser()\n",
        "config.read('config.ini')\n",
        "subscription_id = config.get('Azure', 'subscription_id')\n",
        "resource_group = config.get('Azure', 'resource_group')\n",
        "workspace_name = config.get('Azure', 'workspace')\n",
        "datastore_name = config.get('Azure', 'datastore_name')\n",
        "clean_data_path = config.get('Azure', 'clean_data_path')\n",
        "print(subscription_id, resource_group, workspace_name, datastore_name, clean_data_path)"
      ],
      "outputs": [
        {
          "output_type": "stream",
          "name": "stdout",
          "text": "f3aa5221-5b34-4091-bcec-acf7b816f5b6 GrpTrabajo1 GrpTrabajo1 workspaceblobstore UI/clean_data.csv\n"
        }
      ],
      "execution_count": 3,
      "metadata": {
        "jupyter": {
          "source_hidden": false,
          "outputs_hidden": false
        },
        "nteract": {
          "transient": {
            "deleting": false
          }
        },
        "gather": {
          "logged": 1698629404708
        }
      }
    },
    {
      "cell_type": "code",
      "source": [
        "credential = DefaultAzureCredential()\n",
        "ml_client = MLClient.from_config(credential)\n",
        "ml_client = MLClient(credential, subscription_id, resource_group, workspace_name)"
      ],
      "outputs": [
        {
          "output_type": "stream",
          "name": "stderr",
          "text": "Found the config file in: /config.json\n"
        }
      ],
      "execution_count": 4,
      "metadata": {
        "jupyter": {
          "source_hidden": false,
          "outputs_hidden": false
        },
        "nteract": {
          "transient": {
            "deleting": false
          }
        },
        "gather": {
          "logged": 1698629410465
        }
      }
    },
    {
      "cell_type": "code",
      "source": [
        "cpu_compute_target = \"cluster-trabajo1\"\n",
        "\n",
        "try:\n",
        "    cpu_cluster = ml_client.compute.get(cpu_compute_target)\n",
        "except Exception:\n",
        "    cpu_cluster = AmlCompute(\n",
        "        name=cpu_compute_target,\n",
        "        type=\"amlcompute\",\n",
        "        size=\"STANDARD_DS12_V2\",\n",
        "        min_instances=0,\n",
        "        max_instances=6,\n",
        "        idle_time_before_scale_down=120,\n",
        "        tier=\"Dedicated\",\n",
        "    )\n",
        "\n",
        "    cpu_cluster = ml_client.compute.begin_create_or_update(cpu_cluster).result()"
      ],
      "outputs": [],
      "execution_count": 5,
      "metadata": {
        "jupyter": {
          "source_hidden": false,
          "outputs_hidden": false
        },
        "nteract": {
          "transient": {
            "deleting": false
          }
        },
        "gather": {
          "logged": 1698629418181
        }
      }
    },
    {
      "cell_type": "markdown",
      "source": [
        "# Configuración de Entorno"
      ],
      "metadata": {
        "nteract": {
          "transient": {
            "deleting": false
          }
        }
      }
    },
    {
      "cell_type": "code",
      "source": [
        "env_name = 'sklearn-env'\n",
        "job_env = Environment(\n",
        "    name=env_name,\n",
        "    description=\"sklearn 0.24.2\",\n",
        "    conda_file='./env/conda.yaml',\n",
        "    image=\"mcr.microsoft.com/azureml/openmpi4.1.0-ubuntu20.04:latest\",\n",
        ")\n",
        "job_env = ml_client.environments.create_or_update(job_env)"
      ],
      "outputs": [],
      "execution_count": 6,
      "metadata": {
        "jupyter": {
          "source_hidden": false,
          "outputs_hidden": false
        },
        "nteract": {
          "transient": {
            "deleting": false
          }
        },
        "gather": {
          "logged": 1698629425747
        }
      }
    },
    {
      "cell_type": "code",
      "source": [
        "dirT = ml_client.data.get(name=\"Mobile-Data\", version='initial')\n",
        "my_training_data_input  = Input(type=AssetTypes.URI_FILE, path=dirT.path)"
      ],
      "outputs": [],
      "execution_count": 7,
      "metadata": {
        "jupyter": {
          "source_hidden": false,
          "outputs_hidden": false
        },
        "nteract": {
          "transient": {
            "deleting": false
          }
        },
        "gather": {
          "logged": 1698629430615
        }
      }
    },
    {
      "cell_type": "markdown",
      "source": [
        "# Árbol de decisión"
      ],
      "metadata": {
        "nteract": {
          "transient": {
            "deleting": false
          }
        }
      }
    },
    {
      "cell_type": "code",
      "source": [
        "job = command(\n",
        "    code=\"./src\",\n",
        "    command=\"python train.py --dataset_path ${{inputs.dataset_path}} --min_samples_split ${{inputs.min_samples_split}} --criterion ${{inputs.criterion}}\",\n",
        "    environment=f\"{job_env.name}:{job_env.version}\",\n",
        "    experiment_name='mobile-decision-tree-hyp',\n",
        "    display_name=\"mobile-exp-decision-tree-hyp\",\n",
        "    inputs={\n",
        "        \"dataset_path\": my_training_data_input,\n",
        "        \"min_samples_split\": 3,\n",
        "        \"criterion\": \"entropy\",\n",
        "    },\n",
        "    compute=cpu_compute_target,\n",
        ")\n"
      ],
      "outputs": [],
      "execution_count": 8,
      "metadata": {
        "jupyter": {
          "source_hidden": false,
          "outputs_hidden": false
        },
        "nteract": {
          "transient": {
            "deleting": false
          }
        },
        "gather": {
          "logged": 1698629443603
        }
      }
    },
    {
      "cell_type": "code",
      "source": [
        "returned_job = ml_client.jobs.create_or_update(job)"
      ],
      "outputs": [
        {
          "output_type": "stream",
          "name": "stderr",
          "text": "Class AutoDeleteSettingSchema: This is an experimental class, and may change at any time. Please see https://aka.ms/azuremlexperimental for more information.\nClass AutoDeleteConditionSchema: This is an experimental class, and may change at any time. Please see https://aka.ms/azuremlexperimental for more information.\nClass BaseAutoDeleteSettingSchema: This is an experimental class, and may change at any time. Please see https://aka.ms/azuremlexperimental for more information.\nClass IntellectualPropertySchema: This is an experimental class, and may change at any time. Please see https://aka.ms/azuremlexperimental for more information.\nClass ProtectionLevelSchema: This is an experimental class, and may change at any time. Please see https://aka.ms/azuremlexperimental for more information.\nClass BaseIntellectualPropertySchema: This is an experimental class, and may change at any time. Please see https://aka.ms/azuremlexperimental for more information.\n\u001b[32mUploading src (0.0 MBs): 100%|██████████| 2834/2834 [00:00<00:00, 41600.43it/s]\n\u001b[39m\n\n"
        }
      ],
      "execution_count": 8,
      "metadata": {
        "jupyter": {
          "source_hidden": false,
          "outputs_hidden": false
        },
        "nteract": {
          "transient": {
            "deleting": false
          }
        },
        "gather": {
          "logged": 1698624643440
        }
      }
    },
    {
      "cell_type": "code",
      "source": [
        "job_for_sweep = job(\n",
        "    min_samples_split=Choice(values=[3,5,7,9]),\n",
        "    criterion=Choice(values=['entropy','gini']),\n",
        ")\n",
        "\n",
        "sweep_job = job_for_sweep.sweep(\n",
        "    compute=cpu_compute_target,\n",
        "    sampling_algorithm=\"random\",\n",
        "    primary_metric=\"F1 Score\",\n",
        "    goal=\"Maximize\",\n",
        "    max_total_trials=12,\n",
        "    max_concurrent_trials=4,\n",
        ")\n",
        "\n",
        "returned_sweep_job = ml_client.create_or_update(sweep_job)\n",
        "ml_client.jobs.stream(returned_sweep_job.name)"
      ],
      "outputs": [],
      "execution_count": null,
      "metadata": {
        "jupyter": {
          "source_hidden": false,
          "outputs_hidden": false
        },
        "nteract": {
          "transient": {
            "deleting": false
          }
        },
        "gather": {
          "logged": 1698626139252
        }
      }
    },
    {
      "cell_type": "markdown",
      "source": [
        "# Voting"
      ],
      "metadata": {
        "nteract": {
          "transient": {
            "deleting": false
          }
        }
      }
    },
    {
      "cell_type": "code",
      "source": [
        "job_voting = command(\n",
        "    code=\"./src\",\n",
        "    command=\"python train_voting.py --dataset_path ${{inputs.dataset_path}} --n_estimators ${{inputs.n_estimators}} --voting ${{inputs.voting}}\",\n",
        "    environment=f\"{job_env.name}:{job_env.version}\",\n",
        "    experiment_name='mobile-exp-voting-hyp',\n",
        "    display_name=\"mobile-exp-voting-hyp\",\n",
        "    inputs={\n",
        "        \"dataset_path\": my_training_data_input,\n",
        "        \"n_estimators\": 100,\n",
        "        \"voting\": \"hard\",\n",
        "    },\n",
        "    compute=cpu_compute_target,\n",
        ")"
      ],
      "outputs": [],
      "execution_count": 9,
      "metadata": {
        "jupyter": {
          "source_hidden": false,
          "outputs_hidden": false
        },
        "nteract": {
          "transient": {
            "deleting": false
          }
        },
        "gather": {
          "logged": 1698629467236
        }
      }
    },
    {
      "cell_type": "code",
      "source": [
        "returned_job = ml_client.jobs.create_or_update(job_voting)"
      ],
      "outputs": [
        {
          "output_type": "stream",
          "name": "stderr",
          "text": "Class AutoDeleteSettingSchema: This is an experimental class, and may change at any time. Please see https://aka.ms/azuremlexperimental for more information.\nClass AutoDeleteConditionSchema: This is an experimental class, and may change at any time. Please see https://aka.ms/azuremlexperimental for more information.\nClass BaseAutoDeleteSettingSchema: This is an experimental class, and may change at any time. Please see https://aka.ms/azuremlexperimental for more information.\nClass IntellectualPropertySchema: This is an experimental class, and may change at any time. Please see https://aka.ms/azuremlexperimental for more information.\nClass ProtectionLevelSchema: This is an experimental class, and may change at any time. Please see https://aka.ms/azuremlexperimental for more information.\nClass BaseIntellectualPropertySchema: This is an experimental class, and may change at any time. Please see https://aka.ms/azuremlexperimental for more information.\n\u001b[32mUploading src (0.01 MBs): 100%|██████████| 5709/5709 [00:00<00:00, 58460.59it/s]\n\u001b[39m\n\n"
        }
      ],
      "execution_count": 10,
      "metadata": {
        "jupyter": {
          "source_hidden": false,
          "outputs_hidden": false
        },
        "nteract": {
          "transient": {
            "deleting": false
          }
        },
        "gather": {
          "logged": 1698629476608
        }
      }
    },
    {
      "cell_type": "code",
      "source": [
        "job_voting_for_sweep = job_voting(\n",
        "    n_estimators=Choice(values=[30, 50, 100]),\n",
        "    voting=Choice(values=['soft', 'hard']),\n",
        ")\n",
        "\n",
        "sweep_job_voting = job_voting_for_sweep.sweep(\n",
        "    compute=cpu_compute_target,\n",
        "    sampling_algorithm=\"random\",\n",
        "    primary_metric=\"F1 Score\",\n",
        "    goal=\"Maximize\",\n",
        "    max_total_trials=12,\n",
        "    max_concurrent_trials=4,\n",
        ")\n",
        "\n",
        "returned_sweep_job_voting = ml_client.create_or_update(sweep_job_voting)\n",
        "ml_client.jobs.stream(returned_sweep_job_voting.name)"
      ],
      "outputs": [
        {
          "output_type": "stream",
          "name": "stdout",
          "text": "RunId: lime_squash_wx817bx72t\nWeb View: https://ml.azure.com/runs/lime_squash_wx817bx72t?wsid=/subscriptions/f3aa5221-5b34-4091-bcec-acf7b816f5b6/resourcegroups/GrpTrabajo1/workspaces/GrpTrabajo1\n\nStreaming azureml-logs/hyperdrive.txt\n=====================================\n\n[2023-10-30T01:47:35.821238][GENERATOR][INFO]Trying to sample '4' jobs from the hyperparameter space\n[2023-10-30T01:47:36.2874705Z][SCHEDULER][INFO]Scheduling job, id='lime_squash_wx817bx72t_0' \n[2023-10-30T01:47:36.4087939Z][SCHEDULER][INFO]Scheduling job, id='lime_squash_wx817bx72t_1' \n[2023-10-30T01:47:36.5678817Z][SCHEDULER][INFO]Scheduling job, id='lime_squash_wx817bx72t_2' \n[2023-10-30T01:47:36.6988950Z][SCHEDULER][INFO]Scheduling job, id='lime_squash_wx817bx72t_3' \n[2023-10-30T01:47:36.602930][GENERATOR][INFO]Successfully sampled '4' jobs, they will soon be submitted to the execution target.\n[2023-10-30T01:47:36.8170379Z][SCHEDULER][INFO]Successfully scheduled a job. Id='lime_squash_wx817bx72t_0' \n[2023-10-30T01:47:36.8543309Z][SCHEDULER][INFO]Successfully scheduled a job. Id='lime_squash_wx817bx72t_1' \n[2023-10-30T01:47:36.9097346Z][SCHEDULER][INFO]Successfully scheduled a job. Id='lime_squash_wx817bx72t_2' \n[2023-10-30T01:47:37.0468349Z][SCHEDULER][INFO]Successfully scheduled a job. Id='lime_squash_wx817bx72t_3' \n[2023-10-30T01:54:36.360252][GENERATOR][INFO]Trying to sample '1' jobs from the hyperparameter space\n[2023-10-30T01:54:36.6667888Z][SCHEDULER][INFO]Scheduling job, id='lime_squash_wx817bx72t_4' \n[2023-10-30T01:54:36.613194][GENERATOR][INFO]Successfully sampled '1' jobs, they will soon be submitted to the execution target.\n[2023-10-30T01:54:37.1170809Z][SCHEDULER][INFO]Successfully scheduled a job. Id='lime_squash_wx817bx72t_4' \n[2023-10-30T01:55:06.267101][GENERATOR][INFO]Trying to sample '1' jobs from the hyperparameter space\n[2023-10-30T01:55:06.510332][GENERATOR][INFO]Successfully sampled '1' jobs, they will soon be submitted to the execution target.\n[2023-10-30T01:55:06.8560233Z][SCHEDULER][INFO]Scheduling job, id='lime_squash_wx817bx72t_5' \n[2023-10-30T01:55:07.0960173Z][SCHEDULER][INFO]Successfully scheduled a job. Id='lime_squash_wx817bx72t_5' \n[2023-10-30T01:57:13.128356][CONTROLLER][INFO]Experiment was 'ExperimentStatus.RUNNING', is 'ExperimentStatus.FINISHED'.\n\nExecution Summary\n=================\nRunId: lime_squash_wx817bx72t\nWeb View: https://ml.azure.com/runs/lime_squash_wx817bx72t?wsid=/subscriptions/f3aa5221-5b34-4091-bcec-acf7b816f5b6/resourcegroups/GrpTrabajo1/workspaces/GrpTrabajo1\n\n"
        }
      ],
      "execution_count": 15,
      "metadata": {
        "jupyter": {
          "source_hidden": false,
          "outputs_hidden": false
        },
        "nteract": {
          "transient": {
            "deleting": false
          }
        },
        "gather": {
          "logged": 1698631034484
        }
      }
    },
    {
      "cell_type": "code",
      "source": [],
      "outputs": [],
      "execution_count": null,
      "metadata": {
        "jupyter": {
          "source_hidden": false,
          "outputs_hidden": false
        },
        "nteract": {
          "transient": {
            "deleting": false
          }
        }
      }
    }
  ],
  "metadata": {
    "kernelspec": {
      "name": "python310-sdkv2",
      "language": "python",
      "display_name": "Python 3.10 - SDK v2"
    },
    "language_info": {
      "name": "python",
      "version": "3.10.11",
      "mimetype": "text/x-python",
      "codemirror_mode": {
        "name": "ipython",
        "version": 3
      },
      "pygments_lexer": "ipython3",
      "nbconvert_exporter": "python",
      "file_extension": ".py"
    },
    "microsoft": {
      "ms_spell_check": {
        "ms_spell_check_language": "en"
      },
      "host": {
        "AzureML": {
          "notebookHasBeenCompleted": true
        }
      }
    },
    "kernel_info": {
      "name": "python310-sdkv2"
    },
    "nteract": {
      "version": "nteract-front-end@1.0.0"
    }
  },
  "nbformat": 4,
  "nbformat_minor": 2
}