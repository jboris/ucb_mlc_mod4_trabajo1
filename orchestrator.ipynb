{
  "cells": [
    {
      "cell_type": "code",
      "source": [
        "import configparser\n",
        "\n",
        "from azure.ai.ml import automl, MLClient\n",
        "from azure.ai.ml.constants import AssetTypes\n",
        "from azure.ai.ml.entities import AmlCompute, Data\n",
        "from azure.identity import DefaultAzureCredential\n",
        "from azure.core.exceptions import ResourceNotFoundError\n",
        "from azure.ai.ml.constants import AssetTypes\n",
        "from azure.ai.ml import Input\n",
        "from azure.ai.ml.automl import ClassificationModels"
      ],
      "outputs": [],
      "execution_count": 3,
      "metadata": {
        "gather": {
          "logged": 1698633432036
        }
      }
    },
    {
      "cell_type": "code",
      "source": [
        "config = configparser.ConfigParser()\n",
        "config.read('config.ini')\n",
        "subscription_id = config.get('Azure', 'subscription_id')\n",
        "resource_group = config.get('Azure', 'resource_group')\n",
        "workspace_name = config.get('Azure', 'workspace')\n",
        "datastore_name = config.get('Azure', 'datastore_name')\n",
        "clean_data_path = config.get('Azure', 'clean_data_path')\n",
        "print(subscription_id, resource_group, workspace_name, datastore_name, clean_data_path)"
      ],
      "outputs": [
        {
          "output_type": "stream",
          "name": "stdout",
          "text": "f3aa5221-5b34-4091-bcec-acf7b816f5b6 GrpTrabajo1 GrpTrabajo1 workspaceblobstore UI/clean_data.csv\n"
        }
      ],
      "execution_count": 4,
      "metadata": {
        "jupyter": {
          "source_hidden": false,
          "outputs_hidden": false
        },
        "nteract": {
          "transient": {
            "deleting": false
          }
        },
        "gather": {
          "logged": 1698633435629
        }
      }
    },
    {
      "cell_type": "code",
      "source": [
        "credential = DefaultAzureCredential()\n",
        "ml_client = MLClient.from_config(credential)\n",
        "ml_client = MLClient(credential, subscription_id, resource_group, workspace_name)"
      ],
      "outputs": [
        {
          "output_type": "stream",
          "name": "stderr",
          "text": "Found the config file in: /config.json\n"
        }
      ],
      "execution_count": 5,
      "metadata": {
        "jupyter": {
          "source_hidden": false,
          "outputs_hidden": false
        },
        "nteract": {
          "transient": {
            "deleting": false
          }
        },
        "gather": {
          "logged": 1698633440601
        }
      }
    },
    {
      "cell_type": "code",
      "source": [
        "workspace = ml_client.workspaces.get(name=workspace_name)\n",
        "\n",
        "output = {}\n",
        "output[\"Workspace\"] = workspace_name\n",
        "output[\"Subscription ID\"] = subscription_id\n",
        "output[\"Resource Group\"] = resource_group\n",
        "output[\"Location\"] = workspace.location\n",
        "output"
      ],
      "outputs": [
        {
          "output_type": "execute_result",
          "execution_count": 6,
          "data": {
            "text/plain": "{'Workspace': 'GrpTrabajo1',\n 'Subscription ID': 'f3aa5221-5b34-4091-bcec-acf7b816f5b6',\n 'Resource Group': 'GrpTrabajo1',\n 'Location': 'eastus'}"
          },
          "metadata": {}
        }
      ],
      "execution_count": 6,
      "metadata": {
        "jupyter": {
          "source_hidden": false,
          "outputs_hidden": false
        },
        "nteract": {
          "transient": {
            "deleting": false
          }
        },
        "gather": {
          "logged": 1698633450917
        }
      }
    },
    {
      "cell_type": "code",
      "source": [
        "my_path = \"./data/train.csv\"\n",
        "v1 = \"initial\"\n",
        "\n",
        "my_data = Data(\n",
        "    name=\"Mobile-Data\",\n",
        "    version=v1,\n",
        "    description=\"Mobile Data\",\n",
        "    path=my_path,\n",
        "    type=AssetTypes.URI_FILE,\n",
        ")\n",
        "try:\n",
        "    data_asset = ml_client.data.get(name=\"Mobile-Data\", version=v1)\n",
        "    print(\n",
        "        f\"Data asset already exists. Name: {my_data.name}, version: {my_data.version}\"\n",
        "    )\n",
        "except:\n",
        "    ml_client.data.create_or_update(my_data)\n",
        "    print(f\"Data asset created. Name: {my_data.name}, version: {my_data.version}\")"
      ],
      "outputs": [
        {
          "output_type": "stream",
          "name": "stdout",
          "text": "Data asset already exists. Name: Mobile-Data, version: initial\n"
        }
      ],
      "execution_count": 7,
      "metadata": {
        "jupyter": {
          "source_hidden": false,
          "outputs_hidden": false
        },
        "nteract": {
          "transient": {
            "deleting": false
          }
        },
        "gather": {
          "logged": 1698633463227
        }
      }
    },
    {
      "cell_type": "code",
      "source": [
        "data_asset = ml_client.data.get(name=\"Mobile-Data\", version=v1)\n",
        "print(f\"Data asset URI: {data_asset.path}\")"
      ],
      "outputs": [
        {
          "output_type": "stream",
          "name": "stdout",
          "text": "Data asset URI: azureml://subscriptions/f3aa5221-5b34-4091-bcec-acf7b816f5b6/resourcegroups/GrpTrabajo1/workspaces/GrpTrabajo1/datastores/workspaceblobstore/paths/LocalUpload/f55f422ab7ad21f1efb148ac7a59ac7d/train.csv\n"
        }
      ],
      "execution_count": 8,
      "metadata": {
        "jupyter": {
          "source_hidden": false,
          "outputs_hidden": false
        },
        "nteract": {
          "transient": {
            "deleting": false
          }
        },
        "gather": {
          "logged": 1698633467684
        }
      }
    },
    {
      "cell_type": "code",
      "source": [
        "import pandas as pd\n",
        "df = pd.read_csv(data_asset.path)\n",
        "df.head()"
      ],
      "outputs": [
        {
          "output_type": "execute_result",
          "execution_count": 40,
          "data": {
            "text/plain": "   battery_power  px_height  px_width   ram  price_range\n0           1703        286      1235  1046            0\n1           1445       1273      1345  1441            1\n2           1087        295       589   690            0\n3            671        852      1182  2504            2\n4           1472        710      1052  2677            2",
            "text/html": "<div>\n<style scoped>\n    .dataframe tbody tr th:only-of-type {\n        vertical-align: middle;\n    }\n\n    .dataframe tbody tr th {\n        vertical-align: top;\n    }\n\n    .dataframe thead th {\n        text-align: right;\n    }\n</style>\n<table border=\"1\" class=\"dataframe\">\n  <thead>\n    <tr style=\"text-align: right;\">\n      <th></th>\n      <th>battery_power</th>\n      <th>px_height</th>\n      <th>px_width</th>\n      <th>ram</th>\n      <th>price_range</th>\n    </tr>\n  </thead>\n  <tbody>\n    <tr>\n      <th>0</th>\n      <td>1703</td>\n      <td>286</td>\n      <td>1235</td>\n      <td>1046</td>\n      <td>0</td>\n    </tr>\n    <tr>\n      <th>1</th>\n      <td>1445</td>\n      <td>1273</td>\n      <td>1345</td>\n      <td>1441</td>\n      <td>1</td>\n    </tr>\n    <tr>\n      <th>2</th>\n      <td>1087</td>\n      <td>295</td>\n      <td>589</td>\n      <td>690</td>\n      <td>0</td>\n    </tr>\n    <tr>\n      <th>3</th>\n      <td>671</td>\n      <td>852</td>\n      <td>1182</td>\n      <td>2504</td>\n      <td>2</td>\n    </tr>\n    <tr>\n      <th>4</th>\n      <td>1472</td>\n      <td>710</td>\n      <td>1052</td>\n      <td>2677</td>\n      <td>2</td>\n    </tr>\n  </tbody>\n</table>\n</div>"
          },
          "metadata": {}
        }
      ],
      "execution_count": 40,
      "metadata": {
        "jupyter": {
          "source_hidden": false,
          "outputs_hidden": false
        },
        "nteract": {
          "transient": {
            "deleting": false
          }
        },
        "gather": {
          "logged": 1698610824411
        }
      }
    },
    {
      "cell_type": "code",
      "source": [
        "!pip install -U azureml-fsspec"
      ],
      "outputs": [
        {
          "output_type": "stream",
          "name": "stdout",
          "text": "Requirement already up-to-date: azureml-fsspec in /anaconda/envs/azureml_py38/lib/python3.8/site-packages (1.2.0)\nRequirement already satisfied, skipping upgrade: azureml-dataprep<4.14.0a,>=4.12.0a in /anaconda/envs/azureml_py38/lib/python3.8/site-packages (from azureml-fsspec) (4.12.6)\nRequirement already satisfied, skipping upgrade: fsspec>=2021.6.1 in /anaconda/envs/azureml_py38/lib/python3.8/site-packages (from azureml-fsspec) (2023.5.0)\nRequirement already satisfied, skipping upgrade: azure-identity>=1.7.0 in /anaconda/envs/azureml_py38/lib/python3.8/site-packages (from azureml-dataprep<4.14.0a,>=4.12.0a->azureml-fsspec) (1.13.0)\nRequirement already satisfied, skipping upgrade: azureml-dataprep-rslex~=2.19.6dev0 in /anaconda/envs/azureml_py38/lib/python3.8/site-packages (from azureml-dataprep<4.14.0a,>=4.12.0a->azureml-fsspec) (2.19.6)\nRequirement already satisfied, skipping upgrade: azureml-dataprep-native<39.0.0,>=38.0.0 in /anaconda/envs/azureml_py38/lib/python3.8/site-packages (from azureml-dataprep<4.14.0a,>=4.12.0a->azureml-fsspec) (38.0.0)\nRequirement already satisfied, skipping upgrade: cloudpickle<3.0.0,>=1.1.0 in /anaconda/envs/azureml_py38/lib/python3.8/site-packages (from azureml-dataprep<4.14.0a,>=4.12.0a->azureml-fsspec) (1.6.0)\nRequirement already satisfied, skipping upgrade: jsonschema in /anaconda/envs/azureml_py38/lib/python3.8/site-packages (from azureml-dataprep<4.14.0a,>=4.12.0a->azureml-fsspec) (4.17.3)\nRequirement already satisfied, skipping upgrade: pyyaml<7.0.0,>=5.1.0 in /anaconda/envs/azureml_py38/lib/python3.8/site-packages (from azureml-dataprep<4.14.0a,>=4.12.0a->azureml-fsspec) (6.0)\nRequirement already satisfied, skipping upgrade: dotnetcore2<4.0.0,>=3.0.0 in /anaconda/envs/azureml_py38/lib/python3.8/site-packages (from azureml-dataprep<4.14.0a,>=4.12.0a->azureml-fsspec) (3.1.23)\nRequirement already satisfied, skipping upgrade: six>=1.12.0 in /anaconda/envs/azureml_py38/lib/python3.8/site-packages (from azure-identity>=1.7.0->azureml-dataprep<4.14.0a,>=4.12.0a->azureml-fsspec) (1.16.0)\nRequirement already satisfied, skipping upgrade: cryptography>=2.5 in /anaconda/envs/azureml_py38/lib/python3.8/site-packages (from azure-identity>=1.7.0->azureml-dataprep<4.14.0a,>=4.12.0a->azureml-fsspec) (38.0.4)\nRequirement already satisfied, skipping upgrade: msal<2.0.0,>=1.20.0 in /anaconda/envs/azureml_py38/lib/python3.8/site-packages (from azure-identity>=1.7.0->azureml-dataprep<4.14.0a,>=4.12.0a->azureml-fsspec) (1.22.0)\nRequirement already satisfied, skipping upgrade: azure-core<2.0.0,>=1.11.0 in /anaconda/envs/azureml_py38/lib/python3.8/site-packages (from azure-identity>=1.7.0->azureml-dataprep<4.14.0a,>=4.12.0a->azureml-fsspec) (1.26.4)\nRequirement already satisfied, skipping upgrade: msal-extensions<2.0.0,>=0.3.0 in /anaconda/envs/azureml_py38/lib/python3.8/site-packages (from azure-identity>=1.7.0->azureml-dataprep<4.14.0a,>=4.12.0a->azureml-fsspec) (1.0.0)\nRequirement already satisfied, skipping upgrade: pkgutil-resolve-name>=1.3.10; python_version < \"3.9\" in /anaconda/envs/azureml_py38/lib/python3.8/site-packages (from jsonschema->azureml-dataprep<4.14.0a,>=4.12.0a->azureml-fsspec) (1.3.10)\nRequirement already satisfied, skipping upgrade: attrs>=17.4.0 in /anaconda/envs/azureml_py38/lib/python3.8/site-packages (from jsonschema->azureml-dataprep<4.14.0a,>=4.12.0a->azureml-fsspec) (23.1.0)\nRequirement already satisfied, skipping upgrade: importlib-resources>=1.4.0; python_version < \"3.9\" in /anaconda/envs/azureml_py38/lib/python3.8/site-packages (from jsonschema->azureml-dataprep<4.14.0a,>=4.12.0a->azureml-fsspec) (5.12.0)\nRequirement already satisfied, skipping upgrade: pyrsistent!=0.17.0,!=0.17.1,!=0.17.2,>=0.14.0 in /anaconda/envs/azureml_py38/lib/python3.8/site-packages (from jsonschema->azureml-dataprep<4.14.0a,>=4.12.0a->azureml-fsspec) (0.19.3)\nRequirement already satisfied, skipping upgrade: distro>=1.2.0 in /anaconda/envs/azureml_py38/lib/python3.8/site-packages (from dotnetcore2<4.0.0,>=3.0.0->azureml-dataprep<4.14.0a,>=4.12.0a->azureml-fsspec) (1.8.0)\nRequirement already satisfied, skipping upgrade: cffi>=1.12 in /anaconda/envs/azureml_py38/lib/python3.8/site-packages (from cryptography>=2.5->azure-identity>=1.7.0->azureml-dataprep<4.14.0a,>=4.12.0a->azureml-fsspec) (1.15.1)\nRequirement already satisfied, skipping upgrade: requests<3,>=2.0.0 in /anaconda/envs/azureml_py38/lib/python3.8/site-packages (from msal<2.0.0,>=1.20.0->azure-identity>=1.7.0->azureml-dataprep<4.14.0a,>=4.12.0a->azureml-fsspec) (2.31.0)\nRequirement already satisfied, skipping upgrade: PyJWT[crypto]<3,>=1.0.0 in /anaconda/envs/azureml_py38/lib/python3.8/site-packages (from msal<2.0.0,>=1.20.0->azure-identity>=1.7.0->azureml-dataprep<4.14.0a,>=4.12.0a->azureml-fsspec) (2.4.0)\nRequirement already satisfied, skipping upgrade: typing-extensions>=4.3.0 in /anaconda/envs/azureml_py38/lib/python3.8/site-packages (from azure-core<2.0.0,>=1.11.0->azure-identity>=1.7.0->azureml-dataprep<4.14.0a,>=4.12.0a->azureml-fsspec) (4.6.0)\nRequirement already satisfied, skipping upgrade: portalocker<3,>=1.0; python_version >= \"3.5\" and platform_system != \"Windows\" in /anaconda/envs/azureml_py38/lib/python3.8/site-packages (from msal-extensions<2.0.0,>=0.3.0->azure-identity>=1.7.0->azureml-dataprep<4.14.0a,>=4.12.0a->azureml-fsspec) (2.7.0)\nRequirement already satisfied, skipping upgrade: zipp>=3.1.0; python_version < \"3.10\" in /anaconda/envs/azureml_py38/lib/python3.8/site-packages (from importlib-resources>=1.4.0; python_version < \"3.9\"->jsonschema->azureml-dataprep<4.14.0a,>=4.12.0a->azureml-fsspec) (3.12.0)\nRequirement already satisfied, skipping upgrade: pycparser in /anaconda/envs/azureml_py38/lib/python3.8/site-packages (from cffi>=1.12->cryptography>=2.5->azure-identity>=1.7.0->azureml-dataprep<4.14.0a,>=4.12.0a->azureml-fsspec) (2.21)\nRequirement already satisfied, skipping upgrade: idna<4,>=2.5 in /anaconda/envs/azureml_py38/lib/python3.8/site-packages (from requests<3,>=2.0.0->msal<2.0.0,>=1.20.0->azure-identity>=1.7.0->azureml-dataprep<4.14.0a,>=4.12.0a->azureml-fsspec) (3.4)\nRequirement already satisfied, skipping upgrade: certifi>=2017.4.17 in /anaconda/envs/azureml_py38/lib/python3.8/site-packages (from requests<3,>=2.0.0->msal<2.0.0,>=1.20.0->azure-identity>=1.7.0->azureml-dataprep<4.14.0a,>=4.12.0a->azureml-fsspec) (2022.9.24)\nRequirement already satisfied, skipping upgrade: urllib3<3,>=1.21.1 in /anaconda/envs/azureml_py38/lib/python3.8/site-packages (from requests<3,>=2.0.0->msal<2.0.0,>=1.20.0->azure-identity>=1.7.0->azureml-dataprep<4.14.0a,>=4.12.0a->azureml-fsspec) (1.26.16)\nRequirement already satisfied, skipping upgrade: charset-normalizer<4,>=2 in /anaconda/envs/azureml_py38/lib/python3.8/site-packages (from requests<3,>=2.0.0->msal<2.0.0,>=1.20.0->azure-identity>=1.7.0->azureml-dataprep<4.14.0a,>=4.12.0a->azureml-fsspec) (3.1.0)\n"
        }
      ],
      "execution_count": 11,
      "metadata": {
        "jupyter": {
          "source_hidden": false,
          "outputs_hidden": false
        },
        "nteract": {
          "transient": {
            "deleting": false
          }
        }
      }
    },
    {
      "cell_type": "code",
      "source": [
        "!pip install mltable"
      ],
      "outputs": [],
      "execution_count": null,
      "metadata": {
        "jupyter": {
          "source_hidden": false,
          "outputs_hidden": false
        },
        "nteract": {
          "transient": {
            "deleting": false
          }
        }
      }
    },
    {
      "cell_type": "code",
      "source": [
        "import mltable\n",
        "from mltable import MLTableHeaders, MLTableFileEncoding, DataType\n",
        "from azure.ai.ml import MLClient\n",
        "from azure.ai.ml.entities import Data\n",
        "from azure.ai.ml.constants import AssetTypes\n",
        "from azure.identity import DefaultAzureCredential\n",
        "\n",
        "paths = [{\"file\": data_asset.path}]\n",
        "tbl = mltable.from_delimited_files(\n",
        "    paths=paths,\n",
        "    delimiter=\",\",\n",
        "    header=MLTableHeaders.all_files_same_headers,\n",
        "    infer_column_types=True,\n",
        "    include_path_column=False,\n",
        "    encoding=MLTableFileEncoding.utf8,\n",
        ")\n",
        "print(tbl.show())\n",
        "tbl_v = \"1\"\n",
        "mltable_folder = \"./MobileDataT\"\n",
        "tbl.save(mltable_folder)\n",
        "my_data = Data(\n",
        "    path=mltable_folder,\n",
        "    type=AssetTypes.MLTABLE,\n",
        "    description=\"Mobile Data MlTable\",\n",
        "    name=\"MobileDataT\",\n",
        "    version=tbl_v,\n",
        ")\n",
        "ml_client.data.create_or_update(my_data)"
      ],
      "outputs": [],
      "execution_count": null,
      "metadata": {
        "jupyter": {
          "source_hidden": false,
          "outputs_hidden": false
        },
        "nteract": {
          "transient": {
            "deleting": false
          }
        },
        "gather": {
          "logged": 1698633489048
        }
      }
    },
    {
      "cell_type": "markdown",
      "source": [
        "# CREAMOS EL MLTABLE DATA INPUT"
      ],
      "metadata": {
        "nteract": {
          "transient": {
            "deleting": false
          }
        }
      }
    },
    {
      "cell_type": "code",
      "source": [
        "dirT = ml_client.data.get(name='MobileDataT', version='1').path\n",
        "my_training_data_input  = Input(type=AssetTypes.MLTABLE, path=dirT)"
      ],
      "outputs": [],
      "execution_count": 12,
      "metadata": {
        "jupyter": {
          "source_hidden": false,
          "outputs_hidden": false
        },
        "nteract": {
          "transient": {
            "deleting": false
          }
        },
        "gather": {
          "logged": 1698633564034
        }
      }
    },
    {
      "cell_type": "markdown",
      "source": [
        "# CREAMOS EL COMPUTE-CLUSTER PARA EL TRABAJO"
      ],
      "metadata": {
        "nteract": {
          "transient": {
            "deleting": false
          }
        }
      }
    },
    {
      "cell_type": "code",
      "source": [
        "cpu_compute_target = \"cluster-trabajo1\"\n",
        "\n",
        "try:\n",
        "    cpu_cluster = ml_client.compute.get(cpu_compute_target)\n",
        "except Exception:\n",
        "    cpu_cluster = AmlCompute(\n",
        "        name=cpu_compute_target,\n",
        "        type=\"amlcompute\",\n",
        "        size=\"STANDARD_DS12_V2\",\n",
        "        min_instances=0,\n",
        "        max_instances=6,\n",
        "        idle_time_before_scale_down=120,\n",
        "        tier=\"Dedicated\",\n",
        "    )\n",
        "\n",
        "    cpu_cluster = ml_client.compute.begin_create_or_update(cpu_cluster).result()"
      ],
      "outputs": [],
      "execution_count": 59,
      "metadata": {
        "jupyter": {
          "source_hidden": false,
          "outputs_hidden": false
        },
        "nteract": {
          "transient": {
            "deleting": false
          }
        },
        "gather": {
          "logged": 1698611843641
        }
      }
    },
    {
      "cell_type": "markdown",
      "source": [
        "# CREAMOS LA CONFIGURACION DEL AUTOML CLASSIF JOB"
      ],
      "metadata": {
        "nteract": {
          "transient": {
            "deleting": false
          }
        }
      }
    },
    {
      "cell_type": "code",
      "source": [
        "exp_name = 'experimento-trabajo1'"
      ],
      "outputs": [],
      "execution_count": 55,
      "metadata": {
        "jupyter": {
          "source_hidden": false,
          "outputs_hidden": false
        },
        "nteract": {
          "transient": {
            "deleting": false
          }
        },
        "gather": {
          "logged": 1698611694034
        }
      }
    },
    {
      "cell_type": "code",
      "source": [
        "classification_job = automl.classification(\n",
        "    compute=cpu_compute_target,\n",
        "    experiment_name=exp_name,\n",
        "    training_data=my_training_data_input,\n",
        "    target_column_name=\"price_range\",\n",
        "    primary_metric=\"accuracy\",\n",
        "    n_cross_validations=5,\n",
        "    enable_model_explainability=True,\n",
        "    tags={\"my_custom_tag\": \"My custom value\"},\n",
        ")\n",
        "\n",
        "classification_job.set_limits(\n",
        "    timeout_minutes=60,\n",
        "    trial_timeout_minutes=20,\n",
        "    max_trials=5,\n",
        "    enable_early_termination=True,\n",
        ")\n",
        "\n",
        "classification_job.set_training(\n",
        "    blocked_training_algorithms=[ClassificationModels.LOGISTIC_REGRESSION],\n",
        "    enable_onnx_compatible_models=True,\n",
        ")"
      ],
      "outputs": [],
      "execution_count": 60,
      "metadata": {
        "jupyter": {
          "source_hidden": false,
          "outputs_hidden": false
        },
        "nteract": {
          "transient": {
            "deleting": false
          }
        },
        "gather": {
          "logged": 1698611851704
        }
      }
    },
    {
      "cell_type": "markdown",
      "source": [
        "# CORREMOS EL COMANDO USANDO MLCLIENT"
      ],
      "metadata": {
        "nteract": {
          "transient": {
            "deleting": false
          }
        }
      }
    },
    {
      "cell_type": "code",
      "source": [
        "returned_job = ml_client.jobs.create_or_update(\n",
        "    classification_job\n",
        ")  \n",
        "print(f\"Created job: {returned_job}\")"
      ],
      "outputs": [
        {
          "output_type": "stream",
          "name": "stdout",
          "text": "Created job: compute: azureml:cluster-trabajo1\ncreation_context:\n  created_at: '2023-10-29T20:37:38.475862+00:00'\n  created_by: Boris Bellido\n  created_by_type: User\ndisplay_name: maroon_boot_jb0dh2jnb6\nexperiment_name: experimento-trabajo1\nid: azureml:/subscriptions/f3aa5221-5b34-4091-bcec-acf7b816f5b6/resourceGroups/GrpTrabajo1/providers/Microsoft.MachineLearningServices/workspaces/GrpTrabajo1/jobs/maroon_boot_jb0dh2jnb6\nlimits:\n  enable_early_termination: true\n  max_concurrent_trials: 1\n  max_cores_per_trial: -1\n  max_nodes: 1\n  max_trials: 5\n  timeout_minutes: 60\n  trial_timeout_minutes: 20\nlog_verbosity: info\nn_cross_validations: 5\nname: maroon_boot_jb0dh2jnb6\noutputs: {}\nprimary_metric: accuracy\nproperties: {}\nresources:\n  instance_count: 1\n  shm_size: 2g\nservices:\n  Studio:\n    endpoint: https://ml.azure.com/runs/maroon_boot_jb0dh2jnb6?wsid=/subscriptions/f3aa5221-5b34-4091-bcec-acf7b816f5b6/resourcegroups/GrpTrabajo1/workspaces/GrpTrabajo1&tid=4b70a299-063f-4165-a45c-b28e92ad4de1\n  Tracking:\n    endpoint: azureml://eastus.api.azureml.ms/mlflow/v1.0/subscriptions/f3aa5221-5b34-4091-bcec-acf7b816f5b6/resourceGroups/GrpTrabajo1/providers/Microsoft.MachineLearningServices/workspaces/GrpTrabajo1?\nstatus: NotStarted\ntags:\n  my_custom_tag: My custom value\ntarget_column_name: price_range\ntask: classification\ntraining:\n  blocked_training_algorithms:\n  - logistic_regression\n  enable_dnn_training: false\n  enable_model_explainability: true\n  enable_onnx_compatible_models: true\n  enable_stack_ensemble: true\n  enable_vote_ensemble: true\n  ensemble_model_download_timeout_minutes: 5\n  training_mode: auto\ntraining_data:\n  path: azureml://subscriptions/f3aa5221-5b34-4091-bcec-acf7b816f5b6/resourcegroups/GrpTrabajo1/workspaces/GrpTrabajo1/datastores/workspaceblobstore/paths/LocalUpload/129829eea6e207fb58333e2f803cf07e/MobileDataT/\n  type: mltable\ntype: automl\nvalidation_data:\n  type: mltable\n\n"
        },
        {
          "output_type": "stream",
          "name": "stderr",
          "text": "[Handler.handle()] Failed to read or parse request from socket: Expecting value: line 1 column 1 (char 0)\n[Handler.handle()] Failed to read or parse request from socket: 'utf-8' codec can't decode byte 0xe4 in position 4: invalid continuation byte\n[Handler.handle()] Failed to handle request due to exception class=JSONDecodeError, message=Expecting value: line 1 column 1 (char 0)\n[Handler.handle()] Failed to handle request due to exception class=UnicodeDecodeError, message='utf-8' codec can't decode byte 0xe4 in position 4: invalid continuation byte\n[Handler.handle()] Failed to read or parse request from socket: 'utf-8' codec can't decode byte 0xe4 in position 4: invalid continuation byte\n[Handler.handle()] Failed to handle request due to exception class=UnicodeDecodeError, message='utf-8' codec can't decode byte 0xe4 in position 4: invalid continuation byte\n[Handler.handle()] Failed to read or parse request from socket: 'utf-8' codec can't decode byte 0x80 in position 13: invalid start byte\n[Handler.handle()] Failed to handle request due to exception class=UnicodeDecodeError, message='utf-8' codec can't decode byte 0x80 in position 13: invalid start byte\n[Handler.handle()] Failed to read or parse request from socket: 'utf-8' codec can't decode byte 0x8f in position 11: invalid start byte\n[Handler.handle()] Failed to handle request due to exception class=UnicodeDecodeError, message='utf-8' codec can't decode byte 0x8f in position 11: invalid start byte\n[Handler.handle()] Failed to read or parse request from socket: 'utf-8' codec can't decode byte 0xaf in position 4: invalid start byte\n[Handler.handle()] Failed to handle request due to exception class=UnicodeDecodeError, message='utf-8' codec can't decode byte 0xaf in position 4: invalid start byte\n[Handler.handle()] Failed to read or parse request from socket: 'utf-8' codec can't decode byte 0xb5 in position 11: invalid start byte\n[Handler.handle()] Failed to handle request due to exception class=UnicodeDecodeError, message='utf-8' codec can't decode byte 0xb5 in position 11: invalid start byte\n[Handler.handle()] Failed to read or parse request from socket: 'utf-8' codec can't decode byte 0xaf in position 4: invalid start byte\n[Handler.handle()] Failed to handle request due to exception class=UnicodeDecodeError, message='utf-8' codec can't decode byte 0xaf in position 4: invalid start byte\n[Handler.handle()] Failed to read or parse request from socket: 'utf-8' codec can't decode byte 0x9d in position 11: invalid start byte\n[Handler.handle()] Failed to handle request due to exception class=UnicodeDecodeError, message='utf-8' codec can't decode byte 0x9d in position 11: invalid start byte\n[Handler.handle()] Failed to read or parse request from socket: 'utf-8' codec can't decode byte 0xa9 in position 13: invalid start byte\n[Handler.handle()] Failed to handle request due to exception class=UnicodeDecodeError, message='utf-8' codec can't decode byte 0xa9 in position 13: invalid start byte\n[Handler.handle()] Failed to read or parse request from socket: 'utf-8' codec can't decode byte 0xce in position 4: invalid continuation byte\n[Handler.handle()] Failed to handle request due to exception class=UnicodeDecodeError, message='utf-8' codec can't decode byte 0xce in position 4: invalid continuation byte\n[Handler.handle()] Failed to read or parse request from socket: 'utf-8' codec can't decode byte 0xad in position 12: invalid start byte\n[Handler.handle()] Failed to handle request due to exception class=UnicodeDecodeError, message='utf-8' codec can't decode byte 0xad in position 12: invalid start byte\n[Handler.handle()] Failed to read or parse request from socket: 'utf-8' codec can't decode byte 0x89 in position 4: invalid start byte\n[Handler.handle()] Failed to handle request due to exception class=UnicodeDecodeError, message='utf-8' codec can't decode byte 0x89 in position 4: invalid start byte\nBad pipe message: %s [b\"=\\xb9E\\\\\\xe3\\xb2iq\\xe0U\\x01W\\xa9'4\\xc2\\x13\\xe6 ]\\xf6\\xcb0U\\x81\\xd4<\\x9av\\xde\\xd7B\\xe8Vm\\xbb<\\x0bB\\xb3\\xdf\\x9c\\xbb\\x1fCF\\x08\\xaa\\xb2\\xc9\\xaa\\x00\\x08\\x13\\x02\\x13\\x03\\x13\\x01\\x00\\xff\\x01\\x00\\x00\\x8f\\x00\\x00\\x00\\x0e\\x00\\x0c\\x00\\x00\\t127.0.0.1\\x00\\x0b\\x00\\x04\\x03\\x00\\x01\\x02\\x00\\n\\x00\\x0c\\x00\\n\\x00\\x1d\\x00\\x17\\x00\\x1e\\x00\\x19\\x00\\x18\\x00#\\x00\\x00\\x00\\x16\\x00\\x00\\x00\\x17\\x00\\x00\\x00\\r\\x00\\x1e\\x00\\x1c\\x04\\x03\\x05\\x03\\x06\\x03\\x08\\x07\\x08\\x08\\x08\\t\\x08\\n\\x08\\x0b\\x08\\x04\\x08\\x05\\x08\\x06\\x04\\x01\\x05\\x01\\x06\\x01\\x00+\\x00\\x03\\x02\\x03\\x04\\x00-\\x00\\x02\\x01\\x01\\x003\"]\nBad pipe message: %s [b'\\xce\\xe3\\xb1Vd\\xc9zy8/\\x06\\xd95}{\\x0b\\xcf\\xd0 .S\\x84\\x9bil~L\\xa2D\\xef\\x8a\\xaf\\xf4m\\x92<u\\x16\\xe61V9\\x1a\\xdcU\\x88\\xd4k8\\x8b\\x1f\\x00\\x08\\x13\\x02\\x13\\x03\\x13\\x01\\x00\\xff\\x01\\x00\\x00\\x8f\\x00\\x00\\x00\\x0e\\x00\\x0c\\x00\\x00\\t127.0.0']\nBad pipe message: %s [b'\\x00\\x0b\\x00\\x04\\x03\\x00\\x01\\x02\\x00\\n\\x00\\x0c\\x00\\n\\x00\\x1d\\x00\\x17\\x00\\x1e\\x00\\x19\\x00\\x18\\x00#\\x00\\x00\\x00\\x16\\x00\\x00\\x00\\x17\\x00\\x00\\x00\\r\\x00\\x1e\\x00\\x1c\\x04\\x03\\x05', b'\\x03\\x08']\nBad pipe message: %s [b'\\x08\\x08\\t\\x08\\n\\x08']\nBad pipe message: %s [b'\\x04\\x08\\x05\\x08\\x06\\x04\\x01\\x05\\x01\\x06']\nBad pipe message: %s [b'']\nBad pipe message: %s [b'\\x03\\x02\\x03\\x04\\x00-\\x00\\x02\\x01\\x01\\x003\\x00&\\x00$\\x00\\x1d\\x00 D\\xf9}\\xfa\\xbc\\xc3\\xdb\\x02\\x87\\xc4\\xd9\\x07\\x12\\x07\\xabz@\\xa97\\xdb\\xd0\\xf9']\nBad pipe message: %s [b'\\xdd4\\x9a\\x11q\\xb1\\xe9*\\xf2T\\xe3\\x0bA\\xd5\\xd4{\\xb3Z\\x00\\x00|\\xc0', b'0\\x00\\xa3\\x00\\x9f\\xcc\\xa9\\xcc\\xa8\\xcc\\xaa\\xc0\\xaf\\xc0\\xad\\xc0\\xa3\\xc0\\x9f\\xc0]\\xc0a\\xc0W\\xc0S\\xc0+\\xc0/\\x00\\xa2\\x00\\x9e\\xc0\\xae\\xc0\\xac\\xc0\\xa2\\xc0\\x9e']\nBad pipe message: %s [b\"\\xf7\\xa4\\xf2O\\x91dln\\n\\xd7C\\xeblM\\xcf\\x92V\\xba\\x00\\x00\\xa6\\xc0,\\xc00\\x00\\xa3\\x00\\x9f\\xcc\\xa9\\xcc\\xa8\\xcc\\xaa\\xc0\\xaf\\xc0\\xad\\xc0\\xa3\\xc0\\x9f\\xc0]\\xc0a\\xc0W\\xc0S\\xc0+\\xc0/\\x00\\xa2\\x00\\x9e\\xc0\\xae\\xc0\\xac\\xc0\\xa2\\xc0\\x9e\\xc0\\\\\\xc0`\\xc0V\\xc0R\\xc0$\\xc0(\\x00k\\x00j\\xc0s\\xc0w\\x00\\xc4\\x00\\xc3\\xc0#\\xc0'\\x00g\\x00@\\xc0r\\xc0v\\x00\\xbe\\x00\\xbd\\xc0\\n\\xc0\\x14\\x009\\x008\\x00\\x88\\x00\\x87\\xc0\\t\\xc0\"]\nBad pipe message: %s [b'3\\x002\\x00\\x9a\\x00\\x99\\x00E\\x00D\\xc0\\x07\\xc0\\x11\\xc0\\x08\\xc0']\nBad pipe message: %s [b'\\x16\\x00\\x13\\x00\\x9d\\xc0\\xa1\\xc0\\x9d\\xc0Q\\x00\\x9c\\xc0\\xa0\\xc0\\x9c']\nBad pipe message: %s [b'eS L\\xb4)RP\\x9a\\xc8\\xdf=\\x92T0H\\xba\\xa2\\x00\\x00>\\xc0\\x14\\xc0\\n\\x009\\x008\\x007\\x006\\xc0\\x0f\\xc0\\x05\\x005\\xc0\\x13\\xc0\\t\\x003\\x002\\x001\\x000\\xc0\\x0e\\xc0\\x04\\x00/\\x00\\x9a\\x00\\x99\\x00\\x98']\nBad pipe message: %s [b'\\xcd<<\\x91\\x1a\\xd2\\xcf\\xe0S\\n\\x88\\x98H\\xd6\\xd2\\xb0\\x108\\x00\\x00\\xa2\\xc0\\x14\\xc0\\n\\x009\\x008\\x007\\x006\\x00\\x88\\x00\\x87\\x00\\x86\\x00\\x85\\xc0\\x19\\x00:\\x00\\x89\\xc0\\x0f\\xc0\\x05\\x005\\x00\\x84\\xc0\\x13\\xc0\\t\\x003\\x002\\x001\\x000\\x00\\x9a\\x00\\x99\\x00\\x98\\x00\\x97\\x00E\\x00D\\x00C\\x00B\\xc0\\x18\\x004\\x00\\x9b\\x00F\\xc0\\x0e\\xc0\\x04\\x00/\\x00\\x96\\x00A\\x00\\x07\\xc0\\x11\\xc0\\x07\\xc0\\x16\\x00\\x18\\xc0\\x0c\\xc0\\x02\\x00\\x05\\x00\\x04\\xc0\\x12\\xc0\\x08\\x00\\x16\\x00\\x13\\x00\\x10\\x00\\r\\xc0\\x17\\x00\\x1b\\xc0\\r\\xc0\\x03\\x00\\n\\x00\\x15\\x00\\x12\\x00\\x0f\\x00\\x0c\\x00\\x1a\\x00\\t\\x00\\x14\\x00\\x11\\x00\\x19\\x00\\x08\\x00\\x06\\x00\\x17\\x00\\x03\\xc0\\x10\\xc0\\x06\\xc0\\x15\\xc0\\x0b\\xc0\\x01\\x00\\x02\\x00\\x01\\x00\\xff\\x02\\x01\\x00\\x00C\\x00\\x00\\x00\\x0e\\x00\\x0c\\x00\\x00\\t127.0.0.1\\x00\\x0b\\x00\\x04\\x03\\x00\\x01\\x02\\x00\\n\\x00\\x1c\\x00\\x1a\\x00\\x17\\x00\\x19\\x00\\x1c\\x00\\x1b\\x00\\x18\\x00', b'\\x16\\x00\\x0e\\x00\\r\\x00\\x0b\\x00\\x0c\\x00\\t\\x00\\n\\x00#\\x00\\x00\\x00\\x0f\\x00\\x01\\x01\\x15\\x03\\x02']\nBad pipe message: %s [b'\\xe1YR\\x98=y<\\xaa\\x81m\\x06\\x8d\\xd6=\\x9d\\x16\\xd3(\\x00\\x00\\xa2\\xc0\\x14\\xc0\\n\\x00', b'8\\x007\\x006\\x00\\x88\\x00\\x87\\x00\\x86\\x00\\x85\\xc0\\x19\\x00:\\x00\\x89\\xc0\\x0f\\xc0\\x05\\x005\\x00\\x84\\xc0\\x13\\xc0\\t\\x003\\x002\\x001\\x000\\x00\\x9a\\x00\\x99\\x00\\x98\\x00\\x97\\x00E\\x00D\\x00C\\x00B\\xc0']\nBad pipe message: %s [b'4\\x00\\x9b\\x00F\\xc0\\x0e\\xc0\\x04\\x00/\\x00\\x96\\x00A\\x00\\x07\\xc0\\x11\\xc0\\x07\\xc0\\x16']\nBad pipe message: %s [b'\\xcd\\xc8\\x18\\xd6\\x14;\\x07/\\x1f\\xd4{\\xce\\xa4\\xaf\\xb6!\\x1d\\x05\\x00\\x00\\xa2\\xc0\\x14\\xc0\\n\\x009\\x008\\x007\\x006\\x00\\x88\\x00\\x87\\x00\\x86\\x00\\x85\\xc0\\x19\\x00:\\x00\\x89\\xc0\\x0f\\xc0\\x05\\x005\\x00\\x84\\xc0\\x13\\xc0\\t\\x003\\x002\\x001\\x000\\x00\\x9a\\x00\\x99\\x00\\x98\\x00\\x97\\x00E\\x00D\\x00C\\x00B\\xc0\\x18\\x004\\x00\\x9b\\x00F\\xc0\\x0e\\xc0\\x04\\x00/\\x00\\x96\\x00A\\x00\\x07\\xc0\\x11\\xc0\\x07\\xc0\\x16\\x00\\x18\\xc0\\x0c\\xc0\\x02\\x00\\x05\\x00\\x04\\xc0\\x12\\xc0\\x08\\x00\\x16\\x00\\x13\\x00\\x10\\x00\\r\\xc0\\x17\\x00\\x1b\\xc0\\r\\xc0\\x03\\x00\\n\\x00\\x15\\x00\\x12\\x00\\x0f\\x00\\x0c\\x00\\x1a\\x00\\t\\x00\\x14\\x00']\nBad pipe message: %s [b'\\x19\\x00\\x08\\x00\\x06\\x00\\x17\\x00\\x03\\xc0\\x10\\xc0\\x06\\xc0\\x15\\xc0']\nBad pipe message: %s [b'\\x01\\x00\\x02\\x00\\x01\\x00\\xff\\x02\\x01\\x00']\nBad pipe message: %s [b\"S\\xaf#\\xd4\\xd1bgL\\xee\\xee\\xcfa\\xfd?\\x9cz>n\\x00\\x00\\x86\\xc00\\xc0,\\xc0(\\xc0$\\xc0\\x14\\xc0\\n\\x00\\xa5\\x00\\xa3\\x00\\xa1\\x00\\x9f\\x00k\\x00j\\x00i\\x00h\\x009\\x008\\x007\\x006\\xc02\\xc0.\\xc0*\\xc0&\\xc0\\x0f\\xc0\\x05\\x00\\x9d\\x00=\\x005\\xc0/\\xc0+\\xc0'\\xc0#\\xc0\\x13\\xc0\\t\\x00\\xa4\\x00\\xa2\\x00\\xa0\\x00\\x9e\\x00g\\x00@\\x00?\\x00>\\x003\\x002\\x001\\x000\\xc01\\xc0-\\xc0)\\xc0%\\xc0\\x0e\\xc0\\x04\\x00\\x9c\\x00<\\x00/\\x00\\x9a\\x00\\x99\\x00\\x98\\x00\\x97\\x00\\x96\\x00\\x07\\xc0\\x11\\xc0\\x07\\xc0\\x0c\\xc0\\x02\\x00\\x05\\x00\\x04\\x00\\xff\\x02\\x01\\x00\\x00g\\x00\\x00\\x00\\x0e\\x00\\x0c\\x00\\x00\\t127.0.0.1\\x00\\x0b\\x00\\x04\\x03\\x00\\x01\\x02\\x00\\n\\x00\\x1c\\x00\\x1a\\x00\\x17\\x00\\x19\\x00\\x1c\\x00\\x1b\\x00\\x18\\x00\\x1a\\x00\\x16\\x00\\x0e\\x00\\r\\x00\\x0b\\x00\\x0c\\x00\\t\\x00\\n\\x00#\\x00\\x00\\x00\\r\\x00 \\x00\\x1e\\x06\\x01\\x06\\x02\\x06\\x03\\x05\\x01\\x05\\x02\\x05\\x03\\x04\\x01\\x04\"]\nBad pipe message: %s [b'\\x03']\nBad pipe message: %s [b'\\x03\\x02', b'\\x02\\x01', b'\\x02']\nBad pipe message: %s [b'\\x0f\\x00']\nBad pipe message: %s [b\"\\x8c\\xe1\\xc2\\xb5\\x89\\xd6\\x0f\\xb4\\x08\\xa2#\\x81\\x1f?\\xf7\\xe93\\x87\\x00\\x00\\xf4\\xc00\\xc0,\\xc0(\\xc0$\\xc0\\x14\\xc0\\n\\x00\\xa5\\x00\\xa3\\x00\\xa1\\x00\\x9f\\x00k\\x00j\\x00i\\x00h\\x009\\x008\\x007\\x006\\x00\\x88\\x00\\x87\\x00\\x86\\x00\\x85\\xc0\\x19\\x00\\xa7\\x00m\\x00:\\x00\\x89\\xc02\\xc0.\\xc0*\\xc0&\\xc0\\x0f\\xc0\\x05\\x00\\x9d\\x00=\\x005\\x00\\x84\\xc0/\\xc0+\\xc0'\\xc0#\\xc0\\x13\\xc0\\t\\x00\\xa4\\x00\\xa2\\x00\\xa0\\x00\\x9e\\x00g\\x00@\\x00?\\x00>\\x003\\x002\\x001\\x000\\x00\\x9a\\x00\\x99\\x00\\x98\\x00\\x97\\x00E\\x00D\\x00C\\x00B\\xc0\\x18\\x00\\xa6\\x00l\\x004\\x00\\x9b\\x00F\\xc01\\xc0-\\xc0)\\xc0%\\xc0\\x0e\\xc0\\x04\\x00\\x9c\\x00<\\x00/\\x00\\x96\\x00A\\x00\\x07\\xc0\\x11\\xc0\\x07\\xc0\\x16\\x00\\x18\\xc0\\x0c\\xc0\\x02\\x00\\x05\\x00\\x04\\xc0\\x12\\xc0\\x08\\x00\\x16\\x00\\x13\\x00\\x10\\x00\\r\\xc0\\x17\\x00\\x1b\\xc0\\r\\xc0\\x03\\x00\\n\\x00\\x15\\x00\\x12\\x00\\x0f\\x00\\x0c\\x00\\x1a\\x00\\t\\x00\\x14\\x00\\x11\\x00\\x19\\x00\\x08\\x00\\x06\\x00\\x17\\x00\\x03\\xc0\\x10\\xc0\\x06\\xc0\\x15\"]\n"
        }
      ],
      "execution_count": 61,
      "metadata": {
        "jupyter": {
          "source_hidden": false,
          "outputs_hidden": false
        },
        "nteract": {
          "transient": {
            "deleting": false
          }
        },
        "gather": {
          "logged": 1698611859499
        }
      }
    },
    {
      "cell_type": "markdown",
      "source": [
        "# ENCONTRAMOS AL MEJOR MODELO"
      ],
      "metadata": {
        "nteract": {
          "transient": {
            "deleting": false
          }
        }
      }
    },
    {
      "cell_type": "code",
      "source": [
        "import mlflow\n",
        "\n",
        "# Obtain the tracking URL from MLClient\n",
        "MLFLOW_TRACKING_URI = ml_client.workspaces.get(\n",
        "    name=ml_client.workspace_name\n",
        ").mlflow_tracking_uri\n",
        "\n",
        "print(MLFLOW_TRACKING_URI)"
      ],
      "outputs": [
        {
          "output_type": "stream",
          "name": "stdout",
          "text": "azureml://eastus.api.azureml.ms/mlflow/v1.0/subscriptions/f3aa5221-5b34-4091-bcec-acf7b816f5b6/resourceGroups/GrpTrabajo1/providers/Microsoft.MachineLearningServices/workspaces/GrpTrabajo1\n"
        }
      ],
      "execution_count": 13,
      "metadata": {
        "jupyter": {
          "source_hidden": false,
          "outputs_hidden": false
        },
        "nteract": {
          "transient": {
            "deleting": false
          }
        },
        "gather": {
          "logged": 1698633583159
        }
      }
    },
    {
      "cell_type": "code",
      "source": [
        "mlflow.set_tracking_uri(MLFLOW_TRACKING_URI)\n",
        "\n",
        "print(\"\\nCurrent tracking uri: {}\".format(mlflow.get_tracking_uri()))"
      ],
      "outputs": [
        {
          "output_type": "stream",
          "name": "stdout",
          "text": "\nCurrent tracking uri: azureml://eastus.api.azureml.ms/mlflow/v1.0/subscriptions/f3aa5221-5b34-4091-bcec-acf7b816f5b6/resourceGroups/GrpTrabajo1/providers/Microsoft.MachineLearningServices/workspaces/GrpTrabajo1\n"
        }
      ],
      "execution_count": 14,
      "metadata": {
        "jupyter": {
          "source_hidden": false,
          "outputs_hidden": false
        },
        "nteract": {
          "transient": {
            "deleting": false
          }
        },
        "gather": {
          "logged": 1698633592530
        }
      }
    },
    {
      "cell_type": "code",
      "source": [
        "from mlflow.tracking.client import MlflowClient\n",
        "from mlflow.artifacts import download_artifacts\n",
        "\n",
        "# Initialize MLFlow client\n",
        "mlflow_client = MlflowClient()"
      ],
      "outputs": [],
      "execution_count": 15,
      "metadata": {
        "jupyter": {
          "source_hidden": false,
          "outputs_hidden": false
        },
        "nteract": {
          "transient": {
            "deleting": false
          }
        },
        "gather": {
          "logged": 1698633600504
        }
      }
    },
    {
      "cell_type": "markdown",
      "source": [
        "**Ubicamos al automl parent job**"
      ],
      "metadata": {
        "nteract": {
          "transient": {
            "deleting": false
          }
        }
      }
    },
    {
      "cell_type": "code",
      "source": [
        "job_name = returned_job.name\n",
        "\n",
        "# Example if providing an specific Job name/ID\n",
        "# job_name = \"b4e95546-0aa1-448e-9ad6-002e3207b4fc\"\n",
        "\n",
        "# Get the parent run\n",
        "mlflow_parent_run = mlflow_client.get_run(job_name)\n",
        "\n",
        "print(\"Parent Run: \")\n",
        "print(mlflow_parent_run)\n",
        "print(mlflow_parent_run.data.tags)"
      ],
      "outputs": [
        {
          "output_type": "stream",
          "name": "stdout",
          "text": "Parent Run: \n<Run: data=<RunData: metrics={'AUC_macro': 0.9914267999587644,\n 'AUC_micro': 0.9920944010416667,\n 'AUC_weighted': 0.991363427122233,\n 'accuracy': 0.92125,\n 'average_precision_score_macro': 0.9742055700057497,\n 'average_precision_score_micro': 0.9770671504489699,\n 'average_precision_score_weighted': 0.9740868701197549,\n 'balanced_accuracy': 0.9229265668679002,\n 'f1_score_macro': 0.9217469706919792,\n 'f1_score_micro': 0.92125,\n 'f1_score_weighted': 0.9214907633789032,\n 'log_loss': 0.28477476979941424,\n 'matthews_correlation': 0.8951160112608332,\n 'norm_macro_recall': 0.8972354224905335,\n 'precision_score_macro': 0.9215807695058326,\n 'precision_score_micro': 0.92125,\n 'precision_score_weighted': 0.922712428513892,\n 'recall_score_macro': 0.9229265668679002,\n 'recall_score_micro': 0.92125,\n 'recall_score_weighted': 0.92125,\n 'weighted_accuracy': 0.9196608356192824}, params={}, tags={'automl_best_child_run_id': 'maroon_boot_jb0dh2jnb6_3',\n 'fit_time_000': '0.3878024;0.3851692;0.3878128;4;17',\n 'iteration_000': '0;1;2;3;4',\n 'mlflow.rootRunId': 'maroon_boot_jb0dh2jnb6',\n 'mlflow.runName': 'maroon_boot_jb0dh2jnb6',\n 'mlflow.user': 'Boris Bellido',\n 'model_explain_best_run_child_id': 'maroon_boot_jb0dh2jnb6_3',\n 'model_explain_run': 'best_run',\n 'my_custom_tag': 'My custom value',\n 'pipeline_id_000': '5dfac790c5c209f98a1da2dc1c7fb76f0397324f;c7af0367625be6ac5c2fecbfc72ed444cb7a2111;799d2168db11fc19b9e1c6c1df62f8981ad39fe9;__AutoML_Ensemble__;__AutoML_Stack_Ensemble__',\n 'predicted_cost_000': '0;0;0.5;0;0',\n 'run_algorithm_000': 'LightGBM;XGBoostClassifier;ExtremeRandomTrees;VotingEnsemble;StackEnsemble',\n 'run_preprocessor_000': 'MaxAbsScaler;MaxAbsScaler;MaxAbsScaler;;',\n 'score_000': '0.9168749999999999;0.915;0.8175000000000001;0.92125;0.9193749999999999',\n 'training_percent_000': '100;100;100;100;100'}>, info=<RunInfo: artifact_uri='azureml://eastus.api.azureml.ms/mlflow/v2.0/subscriptions/f3aa5221-5b34-4091-bcec-acf7b816f5b6/resourceGroups/GrpTrabajo1/providers/Microsoft.MachineLearningServices/workspaces/GrpTrabajo1/experiments/0200a7ea-a69c-4acb-a096-ea361b3eaa53/runs/maroon_boot_jb0dh2jnb6/artifacts', end_time=1698612605414, experiment_id='0200a7ea-a69c-4acb-a096-ea361b3eaa53', lifecycle_stage='active', run_id='maroon_boot_jb0dh2jnb6', run_name='maroon_boot_jb0dh2jnb6', run_uuid='maroon_boot_jb0dh2jnb6', start_time=1698611873302, status='FINISHED', user_id='f4fb61a3-1c43-49ef-baa5-571230e053b3'>, inputs=<RunInputs: dataset_inputs=[]>>\n{'my_custom_tag': 'My custom value', 'model_explain_run': 'best_run', 'pipeline_id_000': '5dfac790c5c209f98a1da2dc1c7fb76f0397324f;c7af0367625be6ac5c2fecbfc72ed444cb7a2111;799d2168db11fc19b9e1c6c1df62f8981ad39fe9;__AutoML_Ensemble__;__AutoML_Stack_Ensemble__', 'score_000': '0.9168749999999999;0.915;0.8175000000000001;0.92125;0.9193749999999999', 'predicted_cost_000': '0;0;0.5;0;0', 'fit_time_000': '0.3878024;0.3851692;0.3878128;4;17', 'training_percent_000': '100;100;100;100;100', 'iteration_000': '0;1;2;3;4', 'run_preprocessor_000': 'MaxAbsScaler;MaxAbsScaler;MaxAbsScaler;;', 'run_algorithm_000': 'LightGBM;XGBoostClassifier;ExtremeRandomTrees;VotingEnsemble;StackEnsemble', 'automl_best_child_run_id': 'maroon_boot_jb0dh2jnb6_3', 'model_explain_best_run_child_id': 'maroon_boot_jb0dh2jnb6_3', 'mlflow.rootRunId': 'maroon_boot_jb0dh2jnb6', 'mlflow.runName': 'maroon_boot_jb0dh2jnb6', 'mlflow.user': 'Boris Bellido'}\n"
        }
      ],
      "execution_count": 16,
      "metadata": {
        "jupyter": {
          "source_hidden": false,
          "outputs_hidden": false
        },
        "nteract": {
          "transient": {
            "deleting": false
          }
        },
        "gather": {
          "logged": 1698633679253
        }
      }
    },
    {
      "cell_type": "markdown",
      "source": [
        "# ENCONTRAMOS LA MEJOR CORRIDA"
      ],
      "metadata": {
        "nteract": {
          "transient": {
            "deleting": false
          }
        }
      }
    },
    {
      "cell_type": "code",
      "source": [
        "best_child_run_id = mlflow_parent_run.data.tags[\"automl_best_child_run_id\"]\n",
        "print(\"Found best child run id: \", best_child_run_id)\n",
        "\n",
        "best_run = mlflow_client.get_run(best_child_run_id)\n",
        "\n",
        "print(\"Best child run: \")\n",
        "print(best_run)"
      ],
      "outputs": [
        {
          "output_type": "stream",
          "name": "stdout",
          "text": "Found best child run id:  maroon_boot_jb0dh2jnb6_3\nBest child run: \n<Run: data=<RunData: metrics={'AUC_macro': 0.9914267999587644,\n 'AUC_micro': 0.9920944010416667,\n 'AUC_weighted': 0.991363427122233,\n 'accuracy': 0.92125,\n 'average_precision_score_macro': 0.9742055700057497,\n 'average_precision_score_micro': 0.9770671504489699,\n 'average_precision_score_weighted': 0.9740868701197549,\n 'balanced_accuracy': 0.9229265668679002,\n 'f1_score_macro': 0.9217469706919792,\n 'f1_score_micro': 0.92125,\n 'f1_score_weighted': 0.9214907633789032,\n 'log_loss': 0.28477476979941424,\n 'matthews_correlation': 0.8951160112608332,\n 'norm_macro_recall': 0.8972354224905335,\n 'precision_score_macro': 0.9215807695058326,\n 'precision_score_micro': 0.92125,\n 'precision_score_weighted': 0.922712428513892,\n 'recall_score_macro': 0.9229265668679002,\n 'recall_score_micro': 0.92125,\n 'recall_score_weighted': 0.92125,\n 'weighted_accuracy': 0.9196608356192824}, params={}, tags={'mlflow.parentRunId': 'maroon_boot_jb0dh2jnb6',\n 'mlflow.rootRunId': 'maroon_boot_jb0dh2jnb6',\n 'mlflow.runName': 'bubbly_market_2v58bk2x',\n 'mlflow.source.name': 'automl_driver.py',\n 'mlflow.source.type': 'JOB',\n 'mlflow.user': 'Boris Bellido',\n 'model_explain_run_id': 'maroon_boot_jb0dh2jnb6_ModelExplain',\n 'model_explanation': 'True'}>, info=<RunInfo: artifact_uri='azureml://eastus.api.azureml.ms/mlflow/v2.0/subscriptions/f3aa5221-5b34-4091-bcec-acf7b816f5b6/resourceGroups/GrpTrabajo1/providers/Microsoft.MachineLearningServices/workspaces/GrpTrabajo1/experiments/0200a7ea-a69c-4acb-a096-ea361b3eaa53/runs/maroon_boot_jb0dh2jnb6_3/artifacts', end_time=1698612525775, experiment_id='0200a7ea-a69c-4acb-a096-ea361b3eaa53', lifecycle_stage='active', run_id='maroon_boot_jb0dh2jnb6_3', run_name='bubbly_market_2v58bk2x', run_uuid='maroon_boot_jb0dh2jnb6_3', start_time=1698612469233, status='FINISHED', user_id='f4fb61a3-1c43-49ef-baa5-571230e053b3'>, inputs=<RunInputs: dataset_inputs=[]>>\n"
        }
      ],
      "execution_count": 17,
      "metadata": {
        "jupyter": {
          "source_hidden": false,
          "outputs_hidden": false
        },
        "nteract": {
          "transient": {
            "deleting": false
          }
        },
        "gather": {
          "logged": 1698633699746
        }
      }
    },
    {
      "cell_type": "markdown",
      "source": [
        "# OBTENEMOS LAS METRICAS DEL MEJOR"
      ],
      "metadata": {
        "nteract": {
          "transient": {
            "deleting": false
          }
        }
      }
    },
    {
      "cell_type": "code",
      "source": [
        "best_run.data.metrics"
      ],
      "outputs": [
        {
          "output_type": "execute_result",
          "execution_count": 18,
          "data": {
            "text/plain": "{'f1_score_macro': 0.9217469706919792,\n 'recall_score_micro': 0.92125,\n 'norm_macro_recall': 0.8972354224905335,\n 'AUC_macro': 0.9914267999587644,\n 'accuracy': 0.92125,\n 'average_precision_score_micro': 0.9770671504489699,\n 'average_precision_score_weighted': 0.9740868701197549,\n 'weighted_accuracy': 0.9196608356192824,\n 'precision_score_weighted': 0.922712428513892,\n 'recall_score_macro': 0.9229265668679002,\n 'AUC_weighted': 0.991363427122233,\n 'log_loss': 0.28477476979941424,\n 'precision_score_micro': 0.92125,\n 'average_precision_score_macro': 0.9742055700057497,\n 'AUC_micro': 0.9920944010416667,\n 'precision_score_macro': 0.9215807695058326,\n 'recall_score_weighted': 0.92125,\n 'f1_score_micro': 0.92125,\n 'balanced_accuracy': 0.9229265668679002,\n 'f1_score_weighted': 0.9214907633789032,\n 'matthews_correlation': 0.8951160112608332}"
          },
          "metadata": {}
        }
      ],
      "execution_count": 18,
      "metadata": {
        "jupyter": {
          "source_hidden": false,
          "outputs_hidden": false
        },
        "nteract": {
          "transient": {
            "deleting": false
          }
        },
        "gather": {
          "logged": 1698633707031
        }
      }
    },
    {
      "cell_type": "markdown",
      "source": [
        "# DESCARGAMOS EL MEJOR MODELO"
      ],
      "metadata": {
        "nteract": {
          "transient": {
            "deleting": false
          }
        }
      }
    },
    {
      "cell_type": "code",
      "source": [
        "import os\n",
        "\n",
        "# Create local folder\n",
        "local_dir = \"./artifact_downloads\"\n",
        "if not os.path.exists(local_dir):\n",
        "    os.mkdir(local_dir)"
      ],
      "outputs": [],
      "execution_count": 19,
      "metadata": {
        "jupyter": {
          "source_hidden": false,
          "outputs_hidden": false
        },
        "nteract": {
          "transient": {
            "deleting": false
          }
        },
        "gather": {
          "logged": 1698633714194
        }
      }
    },
    {
      "cell_type": "code",
      "source": [
        "local_path = download_artifacts(\n",
        "    run_id=best_run.info.run_id, artifact_path=\"outputs\", dst_path=local_dir\n",
        ")\n",
        "print(\"Artifacts downloaded in: {}\".format(local_path))\n",
        "print(\"Artifacts: {}\".format(os.listdir(local_path)))"
      ],
      "outputs": [
        {
          "output_type": "stream",
          "name": "stdout",
          "text": "Artifacts downloaded in: /mnt/batch/tasks/shared/LS_root/mounts/clusters/pc2/code/Users/jboris.bsm/Trabajo1/artifact_downloads/outputs\nArtifacts: ['conda_env_v_1_0_0.yml', 'engineered_feature_names.json', 'env_dependencies.json', 'featurization_summary.json', 'generated_code', 'internal_cross_validated_models.pkl', 'mlflow-model', 'model.onnx', 'model.pkl', 'model_onnx.json', 'pipeline_graph.json', 'run_id.txt', 'scoring_file_pbi_v_1_0_0.py', 'scoring_file_v_1_0_0.py', 'scoring_file_v_2_0_0.py']\n"
        }
      ],
      "execution_count": 20,
      "metadata": {
        "jupyter": {
          "source_hidden": false,
          "outputs_hidden": false
        },
        "nteract": {
          "transient": {
            "deleting": false
          }
        },
        "gather": {
          "logged": 1698633722165
        }
      }
    },
    {
      "cell_type": "code",
      "source": [
        "os.listdir(\"./artifact_downloads/outputs/mlflow-model\")"
      ],
      "outputs": [],
      "execution_count": null,
      "metadata": {
        "jupyter": {
          "source_hidden": false,
          "outputs_hidden": false
        },
        "nteract": {
          "transient": {
            "deleting": false
          }
        }
      }
    },
    {
      "cell_type": "markdown",
      "source": [
        "# REGISTRAMOS EL MEJOR MODELO"
      ],
      "metadata": {
        "nteract": {
          "transient": {
            "deleting": false
          }
        }
      }
    },
    {
      "cell_type": "markdown",
      "source": [
        "## 1 CREANDO ENDPOINT"
      ],
      "metadata": {
        "nteract": {
          "transient": {
            "deleting": false
          }
        }
      }
    },
    {
      "cell_type": "code",
      "source": [
        "from azure.ai.ml.entities import (\n",
        "    ManagedOnlineEndpoint,\n",
        "    ManagedOnlineDeployment,\n",
        "    Model,\n",
        "    Environment,\n",
        "    CodeConfiguration,\n",
        "    ProbeSettings,\n",
        ")\n",
        "from azure.ai.ml.constants import ModelType"
      ],
      "outputs": [],
      "execution_count": 21,
      "metadata": {
        "jupyter": {
          "source_hidden": false,
          "outputs_hidden": false
        },
        "nteract": {
          "transient": {
            "deleting": false
          }
        },
        "gather": {
          "logged": 1698633728363
        }
      }
    },
    {
      "cell_type": "code",
      "source": [
        "import datetime\n",
        "\n",
        "online_endpoint_name = \"mobileClassif-\" + datetime.datetime.now().strftime(\"%m%d%H%M%f\")\n",
        "\n",
        "# create an online endpoint\n",
        "endpoint = ManagedOnlineEndpoint(\n",
        "    name=online_endpoint_name,\n",
        "    description=\"this is a sample online endpoint for mlflow model\",\n",
        "    auth_mode=\"key\",\n",
        "    tags={\"foo\": \"bar\"},\n",
        ")"
      ],
      "outputs": [],
      "execution_count": 22,
      "metadata": {
        "jupyter": {
          "source_hidden": false,
          "outputs_hidden": false
        },
        "nteract": {
          "transient": {
            "deleting": false
          }
        },
        "gather": {
          "logged": 1698633732011
        }
      }
    },
    {
      "cell_type": "code",
      "source": [
        "ml_client.begin_create_or_update(endpoint).result()"
      ],
      "outputs": [
        {
          "output_type": "execute_result",
          "execution_count": 23,
          "data": {
            "text/plain": "ManagedOnlineEndpoint({'public_network_access': 'Enabled', 'provisioning_state': 'Succeeded', 'scoring_uri': 'https://mobileclassif-10300242231395.eastus.inference.ml.azure.com/score', 'openapi_uri': 'https://mobileclassif-10300242231395.eastus.inference.ml.azure.com/swagger.json', 'name': 'mobileclassif-10300242231395', 'description': 'this is a sample online endpoint for mlflow model', 'tags': {'foo': 'bar'}, 'properties': {'azureml.onlineendpointid': '/subscriptions/f3aa5221-5b34-4091-bcec-acf7b816f5b6/resourcegroups/grptrabajo1/providers/microsoft.machinelearningservices/workspaces/grptrabajo1/onlineendpoints/mobileclassif-10300242231395', 'AzureAsyncOperationUri': 'https://management.azure.com/subscriptions/f3aa5221-5b34-4091-bcec-acf7b816f5b6/providers/Microsoft.MachineLearningServices/locations/eastus/mfeOperationsStatus/oe:f49da61b-a267-4e18-b328-3e9e8da5ea4f:643f15ec-57d8-475b-aa36-7ff24933a5cb?api-version=2022-02-01-preview'}, 'print_as_yaml': True, 'id': '/subscriptions/f3aa5221-5b34-4091-bcec-acf7b816f5b6/resourceGroups/GrpTrabajo1/providers/Microsoft.MachineLearningServices/workspaces/GrpTrabajo1/onlineEndpoints/mobileclassif-10300242231395', 'Resource__source_path': None, 'base_path': '/mnt/batch/tasks/shared/LS_root/mounts/clusters/pc2/code/Users/jboris.bsm/Trabajo1', 'creation_context': None, 'serialize': <msrest.serialization.Serializer object at 0x7f7bfb43e860>, 'auth_mode': 'key', 'location': 'eastus', 'identity': <azure.ai.ml.entities._credentials.IdentityConfiguration object at 0x7f7bf0d0ada0>, 'traffic': {}, 'mirror_traffic': {}, 'kind': 'Managed'})"
          },
          "metadata": {}
        }
      ],
      "execution_count": 23,
      "metadata": {
        "jupyter": {
          "source_hidden": false,
          "outputs_hidden": false
        },
        "nteract": {
          "transient": {
            "deleting": false
          }
        },
        "gather": {
          "logged": 1698633828432
        }
      }
    },
    {
      "cell_type": "markdown",
      "source": [
        "## 2 Register best model and deploy"
      ],
      "metadata": {
        "nteract": {
          "transient": {
            "deleting": false
          }
        }
      }
    },
    {
      "cell_type": "code",
      "source": [
        "model_name = \"Mobile-model\"\n",
        "model = Model(\n",
        "    path=f\"azureml://jobs/{best_run.info.run_id}/outputs/artifacts/outputs/mlflow-model/\",\n",
        "    name=model_name,\n",
        "    description=\"my sample classification model\",\n",
        "    type=AssetTypes.MLFLOW_MODEL,\n",
        ")\n",
        "\n",
        "registered_model = ml_client.models.create_or_update(model)"
      ],
      "outputs": [],
      "execution_count": 28,
      "metadata": {
        "jupyter": {
          "source_hidden": false,
          "outputs_hidden": false
        },
        "nteract": {
          "transient": {
            "deleting": false
          }
        },
        "gather": {
          "logged": 1698633926844
        }
      }
    },
    {
      "cell_type": "markdown",
      "source": [
        "# Deployamos"
      ],
      "metadata": {
        "nteract": {
          "transient": {
            "deleting": false
          }
        }
      }
    },
    {
      "cell_type": "code",
      "source": [
        "deployment = ManagedOnlineDeployment(\n",
        "    name=\"Mobile-deploy\",\n",
        "    endpoint_name=online_endpoint_name,\n",
        "    model=registered_model.id,\n",
        "    instance_type=\"Standard_DS3_V2\",\n",
        "    instance_count=1,\n",
        "    liveness_probe=ProbeSettings(\n",
        "        failure_threshold=30,\n",
        "        success_threshold=1,\n",
        "        timeout=2,\n",
        "        period=10,\n",
        "        initial_delay=2000,\n",
        "    ),\n",
        "    readiness_probe=ProbeSettings(\n",
        "        failure_threshold=10,\n",
        "        success_threshold=1,\n",
        "        timeout=10,\n",
        "        period=10,\n",
        "        initial_delay=2000,\n",
        "    ),\n",
        ")"
      ],
      "outputs": [
        {
          "output_type": "stream",
          "name": "stdout",
          "text": ".."
        }
      ],
      "execution_count": 33,
      "metadata": {
        "jupyter": {
          "source_hidden": false,
          "outputs_hidden": false
        },
        "nteract": {
          "transient": {
            "deleting": false
          }
        },
        "gather": {
          "logged": 1698634039316
        }
      }
    },
    {
      "cell_type": "code",
      "source": [
        "ml_client.online_deployments.begin_create_or_update(deployment).result()"
      ],
      "outputs": [],
      "execution_count": null,
      "metadata": {
        "jupyter": {
          "source_hidden": false,
          "outputs_hidden": false
        },
        "nteract": {
          "transient": {
            "deleting": false
          }
        },
        "gather": {
          "logged": 1698633998786
        }
      }
    },
    {
      "cell_type": "code",
      "source": [
        "endpoint.traffic = {\"Mobile-deploy\": 100}\n",
        "ml_client.begin_create_or_update(endpoint)"
      ],
      "outputs": [],
      "execution_count": null,
      "metadata": {
        "jupyter": {
          "source_hidden": false,
          "outputs_hidden": false
        },
        "nteract": {
          "transient": {
            "deleting": false
          }
        },
        "gather": {
          "logged": 1698634125886
        }
      }
    },
    {
      "cell_type": "markdown",
      "source": [
        "# Testeamos"
      ],
      "metadata": {
        "nteract": {
          "transient": {
            "deleting": false
          }
        }
      }
    },
    {
      "cell_type": "code",
      "source": [
        "import pandas as pd\n",
        "\n",
        "test_data = pd.read_csv(\"./data/test.csv\")\n",
        "\n",
        "test_data = test_data.drop(\"price_range\", axis=1)\n",
        "\n",
        "test_data_json = test_data.to_json(orient=\"records\", indent=4)\n",
        "data = (\n",
        "    '{ \\\n",
        "          \"input_data\": {\"data\": '\n",
        "    + test_data_json\n",
        "    + \"}}\"\n",
        ")\n",
        "\n",
        "request_file_name = \"mobile.json\"\n",
        "\n",
        "with open(request_file_name, \"w\") as request_file:\n",
        "    request_file.write(data)\n",
        "\n",
        "ml_client.online_endpoints.invoke(\n",
        "    endpoint_name=online_endpoint_name,\n",
        "    deployment_name=\"Mobile-deploy\",\n",
        "    request_file=request_file_name,\n",
        ")"
      ],
      "outputs": [],
      "execution_count": null,
      "metadata": {
        "jupyter": {
          "source_hidden": false,
          "outputs_hidden": false
        },
        "nteract": {
          "transient": {
            "deleting": false
          }
        },
        "gather": {
          "logged": 1698634761750
        }
      }
    },
    {
      "cell_type": "markdown",
      "source": [
        "# Endpoint"
      ],
      "metadata": {
        "nteract": {
          "transient": {
            "deleting": false
          }
        }
      }
    },
    {
      "cell_type": "code",
      "source": [
        "endpoint = ml_client.online_endpoints.get(name=online_endpoint_name)\n",
        "\n",
        "# existing traffic details\n",
        "print(endpoint.traffic)\n",
        "\n",
        "# Get the scoring URI\n",
        "print(endpoint.scoring_uri)"
      ],
      "outputs": [],
      "execution_count": null,
      "metadata": {
        "jupyter": {
          "source_hidden": false,
          "outputs_hidden": false
        },
        "nteract": {
          "transient": {
            "deleting": false
          }
        }
      }
    },
    {
      "cell_type": "markdown",
      "source": [
        "# Cargado de modelo y predicciones"
      ],
      "metadata": {
        "nteract": {
          "transient": {
            "deleting": false
          }
        }
      }
    },
    {
      "cell_type": "code",
      "source": [
        "!pip install azureml-mlflow"
      ],
      "outputs": [],
      "execution_count": null,
      "metadata": {
        "jupyter": {
          "source_hidden": false,
          "outputs_hidden": false
        },
        "nteract": {
          "transient": {
            "deleting": false
          }
        }
      }
    },
    {
      "cell_type": "code",
      "source": [
        "!pip install mlflow"
      ],
      "outputs": [],
      "execution_count": null,
      "metadata": {
        "jupyter": {
          "source_hidden": false,
          "outputs_hidden": false
        },
        "nteract": {
          "transient": {
            "deleting": false
          }
        }
      }
    },
    {
      "cell_type": "code",
      "source": [
        "retrain_data = Data(\n",
        "    path=\"./data/retrained-mltable-folder/\",\n",
        "    type=AssetTypes.MLTABLE,\n",
        "    description=\"Updated training dataset, includes validation data.\",\n",
        "    name=\"bankmarketing-retrain-data\",\n",
        ")\n",
        "retrain_data = ml_client.data.create_or_update(retrain_data)"
      ],
      "outputs": [],
      "execution_count": null,
      "metadata": {
        "jupyter": {
          "source_hidden": false,
          "outputs_hidden": false
        },
        "nteract": {
          "transient": {
            "deleting": false
          }
        }
      }
    },
    {
      "cell_type": "code",
      "source": [
        "import mlflow\n",
        "\n",
        "# Obtain the tracking URL from MLClient\n",
        "MLFLOW_TRACKING_URI = ml_client.workspaces.get(\n",
        "    name=ml_client.workspace_name\n",
        ").mlflow_tracking_uri\n",
        "\n",
        "print(MLFLOW_TRACKING_URI)\n",
        "\n",
        "# Set the MLFLOW TRACKING URI\n",
        "mlflow.set_tracking_uri(MLFLOW_TRACKING_URI)\n",
        "\n",
        "print(\"\\nCurrent tracking uri: {}\".format(mlflow.get_tracking_uri()))"
      ],
      "outputs": [],
      "execution_count": null,
      "metadata": {
        "jupyter": {
          "source_hidden": false,
          "outputs_hidden": false
        },
        "nteract": {
          "transient": {
            "deleting": false
          }
        }
      }
    },
    {
      "cell_type": "markdown",
      "source": [
        "# Descargar Script"
      ],
      "metadata": {
        "nteract": {
          "transient": {
            "deleting": false
          }
        }
      }
    },
    {
      "cell_type": "code",
      "source": [
        "from mlflow.tracking.client import MlflowClient\n",
        "\n",
        "# Initialize MLFlow client\n",
        "mlflow_client = MlflowClient()\n",
        "\n",
        "# Get the parent run\n",
        "job_name = returned_job.name\n",
        "mlflow_parent_run = mlflow_client.get_run(job_name)\n",
        "print(\"Parent Run: \")\n",
        "print(mlflow_parent_run)\n",
        "\n",
        "# Get the best model's child run\n",
        "best_child_run_id = mlflow_parent_run.data.tags[\"automl_best_child_run_id\"]\n",
        "print(\"Found best child run id: \", best_child_run_id)\n",
        "best_run = mlflow_client.get_run(best_child_run_id)\n",
        "\n",
        "# Download run's artifacts/outputs\n",
        "local_dir = \"./artifact_downloads/\"\n",
        "if not os.path.exists(local_dir):\n",
        "    os.mkdir(local_dir)\n",
        "local_path = download_artifacts(\n",
        "    run_id=best_run.info.run_id, artifact_path=\"outputs\", dst_path=local_dir\n",
        ")\n",
        "print(\"Artifacts downloaded in: {}\".format(local_path))\n",
        "print(\"Artifacts: {}\".format(os.listdir(local_path)))"
      ],
      "outputs": [],
      "execution_count": null,
      "metadata": {
        "jupyter": {
          "source_hidden": false,
          "outputs_hidden": false
        },
        "nteract": {
          "transient": {
            "deleting": false
          }
        }
      }
    },
    {
      "cell_type": "code",
      "source": [
        "import yaml\n",
        "\n",
        "model_file = os.path.join(local_dir, \"outputs\", \"mlflow-model\", \"MLmodel\")\n",
        "\n",
        "with open(model_file, \"r\") as model_stream:\n",
        "    model_yaml = yaml.safe_load(model_stream)\n",
        "    training_environment_name = (\n",
        "        \"AzureML-AutoML:\" + model_yaml[\"metadata\"][\"azureml.base_image\"].split(\":\")[-1]\n",
        "    )\n",
        "    print(\"Training emvironment {}\".format(training_environment_name))"
      ],
      "outputs": [],
      "execution_count": null,
      "metadata": {
        "jupyter": {
          "source_hidden": false,
          "outputs_hidden": false
        },
        "nteract": {
          "transient": {
            "deleting": false
          }
        }
      }
    },
    {
      "cell_type": "markdown",
      "source": [
        "# Comando"
      ],
      "metadata": {
        "nteract": {
          "transient": {
            "deleting": false
          }
        }
      }
    },
    {
      "cell_type": "code",
      "source": [
        "command_str = f\"python script.py --training_dataset_uri {retrain_data.path}\"\n",
        "command_job = command(\n",
        "    code=\"./artifact_downloads/outputs/generated_code/\",\n",
        "    command=command_str,\n",
        "    tags=dict(automl_child_run_id=best_run.info.run_id),\n",
        "    environment=training_environment_name,\n",
        "    compute=compute_name,\n",
        "    experiment_name=exp_name,\n",
        ")\n",
        "\n",
        "script_job = ml_client.create_or_update(command_job)"
      ],
      "outputs": [],
      "execution_count": null,
      "metadata": {
        "jupyter": {
          "source_hidden": false,
          "outputs_hidden": false
        },
        "nteract": {
          "transient": {
            "deleting": false
          }
        }
      }
    },
    {
      "cell_type": "code",
      "source": [
        "script_job.studio_url\n",
        "ml_client.jobs.stream(script_job.name)"
      ],
      "outputs": [],
      "execution_count": null,
      "metadata": {
        "jupyter": {
          "source_hidden": false,
          "outputs_hidden": false
        },
        "nteract": {
          "transient": {
            "deleting": false
          }
        }
      }
    }
  ],
  "metadata": {
    "kernelspec": {
      "name": "python310-sdkv2",
      "language": "python",
      "display_name": "Python 3.10 - SDK v2"
    },
    "language_info": {
      "name": "python",
      "version": "3.10.11",
      "mimetype": "text/x-python",
      "codemirror_mode": {
        "name": "ipython",
        "version": 3
      },
      "pygments_lexer": "ipython3",
      "nbconvert_exporter": "python",
      "file_extension": ".py"
    },
    "microsoft": {
      "ms_spell_check": {
        "ms_spell_check_language": "en"
      },
      "host": {
        "AzureML": {
          "notebookHasBeenCompleted": true
        }
      }
    },
    "kernel_info": {
      "name": "python310-sdkv2"
    },
    "nteract": {
      "version": "nteract-front-end@1.0.0"
    }
  },
  "nbformat": 4,
  "nbformat_minor": 2
}