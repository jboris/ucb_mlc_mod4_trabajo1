{
 "cells": [
  {
   "cell_type": "code",
   "execution_count": 1,
   "id": "61d0850b-f193-4341-a317-7a33dd870db5",
   "metadata": {
    "ExecuteTime": {
     "end_time": "2023-10-14T18:36:18.835513736Z",
     "start_time": "2023-10-14T18:36:17.986734746Z"
    }
   },
   "outputs": [],
   "source": [
    "import pandas as pd"
   ]
  },
  {
   "cell_type": "code",
   "execution_count": 5,
   "outputs": [],
   "source": [
    "df = pd.read_csv('../data/train.csv')\n",
    "correlacion = df.corr()['price_range']"
   ],
   "metadata": {
    "collapsed": false,
    "ExecuteTime": {
     "end_time": "2023-10-14T18:41:33.271815392Z",
     "start_time": "2023-10-14T18:41:33.144893263Z"
    }
   },
   "id": "f38e783cf210b21b"
  },
  {
   "cell_type": "code",
   "execution_count": 10,
   "outputs": [
    {
     "name": "stdout",
     "output_type": "stream",
     "text": [
      "battery_power    0\n",
      "blue             0\n",
      "clock_speed      0\n",
      "dual_sim         0\n",
      "fc               0\n",
      "four_g           0\n",
      "int_memory       0\n",
      "m_dep            0\n",
      "mobile_wt        0\n",
      "n_cores          0\n",
      "pc               0\n",
      "px_height        0\n",
      "px_width         0\n",
      "ram              0\n",
      "sc_h             0\n",
      "sc_w             0\n",
      "talk_time        0\n",
      "three_g          0\n",
      "touch_screen     0\n",
      "wifi             0\n",
      "price_range      0\n",
      "dtype: int64\n"
     ]
    }
   ],
   "source": [
    "campos_vacios = df.isnull()\n",
    "cantidad_campos_vacios = campos_vacios.sum()\n",
    "print(cantidad_campos_vacios)"
   ],
   "metadata": {
    "collapsed": false,
    "ExecuteTime": {
     "end_time": "2023-10-14T18:51:39.093542176Z",
     "start_time": "2023-10-14T18:51:38.909405471Z"
    }
   },
   "id": "60e66475d3250086"
  },
  {
   "cell_type": "code",
   "execution_count": 7,
   "outputs": [
    {
     "name": "stdout",
     "output_type": "stream",
     "text": [
      "ram              0.917046\n",
      "battery_power    0.200723\n",
      "px_width         0.165818\n",
      "px_height        0.148858\n",
      "Name: price_range, dtype: float64\n"
     ]
    }
   ],
   "source": [
    "matriz_correlacion = df.corr()\n",
    "correlacion_price_range = matriz_correlacion['price_range']\n",
    "correlacion_price_range = correlacion_price_range.drop('price_range')\n",
    "variables_altas = correlacion_price_range[correlacion_price_range > 0.1]\n",
    "varibles_ordenadas = variables_altas.sort_values(ascending=False)\n",
    "print(varibles_ordenadas)"
   ],
   "metadata": {
    "collapsed": false,
    "ExecuteTime": {
     "end_time": "2023-10-14T18:47:46.907477887Z",
     "start_time": "2023-10-14T18:47:46.797496801Z"
    }
   },
   "id": "75b59636a542a617"
  },
  {
   "cell_type": "code",
   "execution_count": null,
   "outputs": [],
   "source": [],
   "metadata": {
    "collapsed": false
   },
   "id": "c26f8ef4353f4173"
  }
 ],
 "metadata": {
  "kernelspec": {
   "display_name": "Python 3 (ipykernel)",
   "language": "python",
   "name": "python3"
  },
  "language_info": {
   "codemirror_mode": {
    "name": "ipython",
    "version": 3
   },
   "file_extension": ".py",
   "mimetype": "text/x-python",
   "name": "python",
   "nbconvert_exporter": "python",
   "pygments_lexer": "ipython3",
   "version": "3.11.4"
  }
 },
 "nbformat": 4,
 "nbformat_minor": 5
}
